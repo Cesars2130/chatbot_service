{
 "cells": [
  {
   "cell_type": "markdown",
   "id": "06a0f567",
   "metadata": {},
   "source": [
    "\"# Ingeniería de Texto con la API de Minería de Texto\\n\",\n",
    "    \"\\n\",\n",
    "    \"Este notebook demuestra cómo usar la API de minería de texto para clasificación automática de preguntas en español, comparando técnicas de procesamiento de texto en Python con el servicio especializado.\\n\",\n",
    "    \"\\n\",\n",
    "    \"---\\n\",\n",
    "    \"\\n\",\n",
    "    \"## 1. Introducción\\n\",\n",
    "    \"\\n\",\n",
    "    \"La ingeniería de texto (NLP) es fundamental para analizar, limpiar y clasificar información en lenguaje natural. Aquí veremos cómo consumir una API REST de clasificación de preguntas y cómo se compara con técnicas locales de procesamiento de texto.\\n\"\n",
    "   "
   ]
  },
  {
   "cell_type": "markdown",
   "id": "63292942",
   "metadata": {},
   "source": [
    " \"## 2. Configuración\\n\",\n",
    "    \"\\n\",\n",
    "    \"Importamos las librerías necesarias y definimos la URL base de la API.\"\n",
    "   "
   ]
  },
  {
   "cell_type": "code",
   "execution_count": null,
   "id": "9d139ddc",
   "metadata": {
    "vscode": {
     "languageId": "plaintext"
    }
   },
   "outputs": [],
   "source": [
    "  \"import requests\\n\",\n",
    "    \"import pandas as pd\\n\",\n",
    "    \"import matplotlib.pyplot as plt\\n\",\n",
    "    \"import spacy\\n\",\n",
    "    \"\\n\",\n",
    "    \"BASE_URL = 'http://localhost:3000'  # Cambia esto si tu API está en Railway o en la nube\\n\"\n",
    "   "
   ]
  }
 ],
 "metadata": {
  "language_info": {
   "name": "python"
  }
 },
 "nbformat": 4,
 "nbformat_minor": 5
}
